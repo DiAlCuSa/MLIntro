{
  "nbformat": 4,
  "nbformat_minor": 0,
  "metadata": {
    "colab": {
      "name": "Validacion_de_modelo.ipynb",
      "provenance": []
    },
    "kernelspec": {
      "name": "python3",
      "display_name": "Python 3"
    },
    "language_info": {
      "name": "python"
    }
  },
  "cells": [
    {
      "cell_type": "code",
      "metadata": {
        "id": "zKdm3AC8f3c_"
      },
      "source": [
        "[![Open In Colab](https://colab.research.google.com/assets/colab-badge.svg)](https://colab.research.google.com/github/googlecolab/colabtools/blob/master/notebooks/colab-github-demo.ipynb)\n"
      ],
      "execution_count": 63,
      "outputs": []
    },
    {
      "cell_type": "code",
      "metadata": {
        "id": "Qdlgwu6V81LG"
      },
      "source": [
        "\n",
        "#importamos todo lo que vamos a usar\n",
        "import pandas as pd\n",
        "import numpy as np\n",
        "from sklearn.model_selection import train_test_split\n",
        "from sklearn.metrics import accuracy_score\n",
        "from sklearn.pipeline import make_pipeline\n",
        "from sklearn.preprocessing import RobustScaler\n",
        "from sklearn.feature_selection import SelectKBest, f_classif\n",
        "from sklearn.linear_model import LogisticRegression\n",
        "from sklearn.model_selection import GridSearchCV\n",
        "from sklearn.metrics import accuracy_score,recall_score,precision_score,f1_score\n",
        "from sklearn.metrics import confusion_matrix\n"
      ],
      "execution_count": null,
      "outputs": []
    },
    {
      "cell_type": "markdown",
      "metadata": {
        "id": "on65zSCeg6a_"
      },
      "source": [
        "#Datas Set Parkinsons\n",
        "\n",
        "Fuente: https://archive.ics.uci.edu/ml/datasets/Arrhythmia\n",
        "\n",
        "Este conjunto de datos está compuesto por una serie de medidas biomédicas de la voz de 31 personas, 23 de ellas con la enfermedad de Parkinson (EP). Cada columna de la tabla es una medida de voz concreta, y cada fila corresponde a una de las 195 grabaciones de voz de estos individuos (columna \"nombre\"). El objetivo principal de los datos es discriminar a las personas sanas de las que padecen EP, según la columna \"estado\", que se establece en 0 para los sanos y en 1 para los que padecen EP.\n",
        "\n",
        "Los datos están en formato ASCII CSV. Las filas del archivo CSV contienen una instancia correspondiente a una grabación de voz. Hay unas seis grabaciones por paciente, el nombre del paciente se identifica en la primera columna.Para más información o para transmitir comentarios, póngase en contacto con Max Little (littlem '@' robots.ox.ac.uk).\n",
        "\n",
        "Si utiliza este conjunto de datos, le rogamos que lo cite:\n",
        "Max A. Little, Patrick E. McSharry, Eric J. Hunter, Lorraine O. Ramig (2008), 'Suitability of dysphonia measurements for telemonitoring of Parkinson's disease', IEEE Transactions on Biomedical Engineering (pendiente de publicación).\n",
        "\n",
        "Información de atributos:\n",
        "\n",
        "Entradas de columna de la matriz (atributos):\n",
        "* nombre - Nombre del sujeto en ASCII y número de grabación\n",
        "* MDVP:Fo(Hz) - Frecuencia fundamental vocal media\n",
        "* MDVP:Fhi(Hz) - Frecuencia fundamental vocal máxima\n",
        "* MDVP:Flo(Hz) - Frecuencia fundamental vocal mínima\n",
        "* MDVP:Jitter(%),MDVP:Jitter(Abs),MDVP:RAP,MDVP:PPQ,Jitter:DDP - Varias \n",
        "medidas de variación de la frecuencia fundamental\n",
        "* MDVP:Shimmer,MDVP:Shimmer(dB),Shimmer:APQ3,Shimmer:APQ5,MDVP:APQ,Shimmer:DDA - Varias medidas de variación de la amplitud\n",
        "* NHR,HNR - Dos medidas de la relación entre el ruido y los componentes tonales de la voz\n",
        "* Estado - Estado de salud del sujeto (uno) - Parkinson, (cero) - sano\n",
        "* RPDE,D2 - Dos medidas de complejidad dinámica no lineal\n",
        "* DFA - Exponente de escala fractal de la señal\n",
        "* spread1,spread2,PPE - Tres medidas no lineales de variación de la frecuencia fundamental \n",
        "\n",
        "\n",
        "\n"
      ]
    },
    {
      "cell_type": "code",
      "metadata": {
        "colab": {
          "base_uri": "https://localhost:8080/",
          "height": 224
        },
        "id": "D_DpNppViCyf",
        "outputId": "8b06d3c4-63a7-43a1-cba3-eabdaee6eacd"
      },
      "source": [
        "#descargamos el dataset \n",
        "df = pd.read_csv('https://archive.ics.uci.edu/ml/machine-learning-databases/parkinsons/parkinsons.data')\n",
        "df.head()\n"
      ],
      "execution_count": 42,
      "outputs": [
        {
          "output_type": "execute_result",
          "data": {
            "text/html": [
              "<div>\n",
              "<style scoped>\n",
              "    .dataframe tbody tr th:only-of-type {\n",
              "        vertical-align: middle;\n",
              "    }\n",
              "\n",
              "    .dataframe tbody tr th {\n",
              "        vertical-align: top;\n",
              "    }\n",
              "\n",
              "    .dataframe thead th {\n",
              "        text-align: right;\n",
              "    }\n",
              "</style>\n",
              "<table border=\"1\" class=\"dataframe\">\n",
              "  <thead>\n",
              "    <tr style=\"text-align: right;\">\n",
              "      <th></th>\n",
              "      <th>name</th>\n",
              "      <th>MDVP:Fo(Hz)</th>\n",
              "      <th>MDVP:Fhi(Hz)</th>\n",
              "      <th>MDVP:Flo(Hz)</th>\n",
              "      <th>MDVP:Jitter(%)</th>\n",
              "      <th>MDVP:Jitter(Abs)</th>\n",
              "      <th>MDVP:RAP</th>\n",
              "      <th>MDVP:PPQ</th>\n",
              "      <th>Jitter:DDP</th>\n",
              "      <th>MDVP:Shimmer</th>\n",
              "      <th>MDVP:Shimmer(dB)</th>\n",
              "      <th>Shimmer:APQ3</th>\n",
              "      <th>Shimmer:APQ5</th>\n",
              "      <th>MDVP:APQ</th>\n",
              "      <th>Shimmer:DDA</th>\n",
              "      <th>NHR</th>\n",
              "      <th>HNR</th>\n",
              "      <th>status</th>\n",
              "      <th>RPDE</th>\n",
              "      <th>DFA</th>\n",
              "      <th>spread1</th>\n",
              "      <th>spread2</th>\n",
              "      <th>D2</th>\n",
              "      <th>PPE</th>\n",
              "    </tr>\n",
              "  </thead>\n",
              "  <tbody>\n",
              "    <tr>\n",
              "      <th>0</th>\n",
              "      <td>phon_R01_S01_1</td>\n",
              "      <td>119.992</td>\n",
              "      <td>157.302</td>\n",
              "      <td>74.997</td>\n",
              "      <td>0.00784</td>\n",
              "      <td>0.00007</td>\n",
              "      <td>0.00370</td>\n",
              "      <td>0.00554</td>\n",
              "      <td>0.01109</td>\n",
              "      <td>0.04374</td>\n",
              "      <td>0.426</td>\n",
              "      <td>0.02182</td>\n",
              "      <td>0.03130</td>\n",
              "      <td>0.02971</td>\n",
              "      <td>0.06545</td>\n",
              "      <td>0.02211</td>\n",
              "      <td>21.033</td>\n",
              "      <td>1</td>\n",
              "      <td>0.414783</td>\n",
              "      <td>0.815285</td>\n",
              "      <td>-4.813031</td>\n",
              "      <td>0.266482</td>\n",
              "      <td>2.301442</td>\n",
              "      <td>0.284654</td>\n",
              "    </tr>\n",
              "    <tr>\n",
              "      <th>1</th>\n",
              "      <td>phon_R01_S01_2</td>\n",
              "      <td>122.400</td>\n",
              "      <td>148.650</td>\n",
              "      <td>113.819</td>\n",
              "      <td>0.00968</td>\n",
              "      <td>0.00008</td>\n",
              "      <td>0.00465</td>\n",
              "      <td>0.00696</td>\n",
              "      <td>0.01394</td>\n",
              "      <td>0.06134</td>\n",
              "      <td>0.626</td>\n",
              "      <td>0.03134</td>\n",
              "      <td>0.04518</td>\n",
              "      <td>0.04368</td>\n",
              "      <td>0.09403</td>\n",
              "      <td>0.01929</td>\n",
              "      <td>19.085</td>\n",
              "      <td>1</td>\n",
              "      <td>0.458359</td>\n",
              "      <td>0.819521</td>\n",
              "      <td>-4.075192</td>\n",
              "      <td>0.335590</td>\n",
              "      <td>2.486855</td>\n",
              "      <td>0.368674</td>\n",
              "    </tr>\n",
              "    <tr>\n",
              "      <th>2</th>\n",
              "      <td>phon_R01_S01_3</td>\n",
              "      <td>116.682</td>\n",
              "      <td>131.111</td>\n",
              "      <td>111.555</td>\n",
              "      <td>0.01050</td>\n",
              "      <td>0.00009</td>\n",
              "      <td>0.00544</td>\n",
              "      <td>0.00781</td>\n",
              "      <td>0.01633</td>\n",
              "      <td>0.05233</td>\n",
              "      <td>0.482</td>\n",
              "      <td>0.02757</td>\n",
              "      <td>0.03858</td>\n",
              "      <td>0.03590</td>\n",
              "      <td>0.08270</td>\n",
              "      <td>0.01309</td>\n",
              "      <td>20.651</td>\n",
              "      <td>1</td>\n",
              "      <td>0.429895</td>\n",
              "      <td>0.825288</td>\n",
              "      <td>-4.443179</td>\n",
              "      <td>0.311173</td>\n",
              "      <td>2.342259</td>\n",
              "      <td>0.332634</td>\n",
              "    </tr>\n",
              "    <tr>\n",
              "      <th>3</th>\n",
              "      <td>phon_R01_S01_4</td>\n",
              "      <td>116.676</td>\n",
              "      <td>137.871</td>\n",
              "      <td>111.366</td>\n",
              "      <td>0.00997</td>\n",
              "      <td>0.00009</td>\n",
              "      <td>0.00502</td>\n",
              "      <td>0.00698</td>\n",
              "      <td>0.01505</td>\n",
              "      <td>0.05492</td>\n",
              "      <td>0.517</td>\n",
              "      <td>0.02924</td>\n",
              "      <td>0.04005</td>\n",
              "      <td>0.03772</td>\n",
              "      <td>0.08771</td>\n",
              "      <td>0.01353</td>\n",
              "      <td>20.644</td>\n",
              "      <td>1</td>\n",
              "      <td>0.434969</td>\n",
              "      <td>0.819235</td>\n",
              "      <td>-4.117501</td>\n",
              "      <td>0.334147</td>\n",
              "      <td>2.405554</td>\n",
              "      <td>0.368975</td>\n",
              "    </tr>\n",
              "    <tr>\n",
              "      <th>4</th>\n",
              "      <td>phon_R01_S01_5</td>\n",
              "      <td>116.014</td>\n",
              "      <td>141.781</td>\n",
              "      <td>110.655</td>\n",
              "      <td>0.01284</td>\n",
              "      <td>0.00011</td>\n",
              "      <td>0.00655</td>\n",
              "      <td>0.00908</td>\n",
              "      <td>0.01966</td>\n",
              "      <td>0.06425</td>\n",
              "      <td>0.584</td>\n",
              "      <td>0.03490</td>\n",
              "      <td>0.04825</td>\n",
              "      <td>0.04465</td>\n",
              "      <td>0.10470</td>\n",
              "      <td>0.01767</td>\n",
              "      <td>19.649</td>\n",
              "      <td>1</td>\n",
              "      <td>0.417356</td>\n",
              "      <td>0.823484</td>\n",
              "      <td>-3.747787</td>\n",
              "      <td>0.234513</td>\n",
              "      <td>2.332180</td>\n",
              "      <td>0.410335</td>\n",
              "    </tr>\n",
              "  </tbody>\n",
              "</table>\n",
              "</div>"
            ],
            "text/plain": [
              "             name  MDVP:Fo(Hz)  MDVP:Fhi(Hz)  ...   spread2        D2       PPE\n",
              "0  phon_R01_S01_1      119.992       157.302  ...  0.266482  2.301442  0.284654\n",
              "1  phon_R01_S01_2      122.400       148.650  ...  0.335590  2.486855  0.368674\n",
              "2  phon_R01_S01_3      116.682       131.111  ...  0.311173  2.342259  0.332634\n",
              "3  phon_R01_S01_4      116.676       137.871  ...  0.334147  2.405554  0.368975\n",
              "4  phon_R01_S01_5      116.014       141.781  ...  0.234513  2.332180  0.410335\n",
              "\n",
              "[5 rows x 24 columns]"
            ]
          },
          "metadata": {},
          "execution_count": 42
        }
      ]
    },
    {
      "cell_type": "markdown",
      "metadata": {
        "id": "vKd-nj5Oodz9"
      },
      "source": [
        "## Hacemos un poco de limpieza de nuestros datos"
      ]
    },
    {
      "cell_type": "code",
      "metadata": {
        "colab": {
          "base_uri": "https://localhost:8080/",
          "height": 224
        },
        "id": "DLRr5KrWnWWD",
        "outputId": "1b2db248-030b-4d09-e1ff-af096c034be2"
      },
      "source": [
        "#renombramos los nombres de las columnas para poder trabajar más fácil con ellas\n",
        "df=df.rename(columns={\n",
        "    'name':'id', 'MDVP:Fo(Hz)':'fo', 'MDVP:Fhi(Hz)':'fhi', 'MDVP:Flo(Hz)':'flo', 'MDVP:Jitter(%)':'jitter',\n",
        "       'MDVP:Jitter(Abs)':'jitter_abs', 'MDVP:RAP':'rap', 'MDVP:PPQ':'ppq', 'Jitter:DDP':'ddp',\n",
        "       'MDVP:Shimmer':'shi', 'MDVP:Shimmer(dB)':'shi_db', 'Shimmer:APQ3':'shi_apq3', 'Shimmer:APQ5':'shi_apq5',\n",
        "       'MDVP:APQ':'apq', 'Shimmer:DDA':'shi_dda', 'NHR':'nhr', 'HNR':'hnr', 'status':'status', 'RPDE':'rpde', 'DFA':'dfa',\n",
        "       'spread1':'s1', 'spread2':'s2', 'D2':'d2', 'PPE':'ppe'})\n",
        "df=df.drop(columns='id')\n",
        "\n",
        "df.head()"
      ],
      "execution_count": 43,
      "outputs": [
        {
          "output_type": "execute_result",
          "data": {
            "text/html": [
              "<div>\n",
              "<style scoped>\n",
              "    .dataframe tbody tr th:only-of-type {\n",
              "        vertical-align: middle;\n",
              "    }\n",
              "\n",
              "    .dataframe tbody tr th {\n",
              "        vertical-align: top;\n",
              "    }\n",
              "\n",
              "    .dataframe thead th {\n",
              "        text-align: right;\n",
              "    }\n",
              "</style>\n",
              "<table border=\"1\" class=\"dataframe\">\n",
              "  <thead>\n",
              "    <tr style=\"text-align: right;\">\n",
              "      <th></th>\n",
              "      <th>fo</th>\n",
              "      <th>fhi</th>\n",
              "      <th>flo</th>\n",
              "      <th>jitter</th>\n",
              "      <th>jitter_abs</th>\n",
              "      <th>rap</th>\n",
              "      <th>ppq</th>\n",
              "      <th>ddp</th>\n",
              "      <th>shi</th>\n",
              "      <th>shi_db</th>\n",
              "      <th>shi_apq3</th>\n",
              "      <th>shi_apq5</th>\n",
              "      <th>apq</th>\n",
              "      <th>shi_dda</th>\n",
              "      <th>nhr</th>\n",
              "      <th>hnr</th>\n",
              "      <th>status</th>\n",
              "      <th>rpde</th>\n",
              "      <th>dfa</th>\n",
              "      <th>s1</th>\n",
              "      <th>s2</th>\n",
              "      <th>d2</th>\n",
              "      <th>ppe</th>\n",
              "    </tr>\n",
              "  </thead>\n",
              "  <tbody>\n",
              "    <tr>\n",
              "      <th>0</th>\n",
              "      <td>119.992</td>\n",
              "      <td>157.302</td>\n",
              "      <td>74.997</td>\n",
              "      <td>0.00784</td>\n",
              "      <td>0.00007</td>\n",
              "      <td>0.00370</td>\n",
              "      <td>0.00554</td>\n",
              "      <td>0.01109</td>\n",
              "      <td>0.04374</td>\n",
              "      <td>0.426</td>\n",
              "      <td>0.02182</td>\n",
              "      <td>0.03130</td>\n",
              "      <td>0.02971</td>\n",
              "      <td>0.06545</td>\n",
              "      <td>0.02211</td>\n",
              "      <td>21.033</td>\n",
              "      <td>1</td>\n",
              "      <td>0.414783</td>\n",
              "      <td>0.815285</td>\n",
              "      <td>-4.813031</td>\n",
              "      <td>0.266482</td>\n",
              "      <td>2.301442</td>\n",
              "      <td>0.284654</td>\n",
              "    </tr>\n",
              "    <tr>\n",
              "      <th>1</th>\n",
              "      <td>122.400</td>\n",
              "      <td>148.650</td>\n",
              "      <td>113.819</td>\n",
              "      <td>0.00968</td>\n",
              "      <td>0.00008</td>\n",
              "      <td>0.00465</td>\n",
              "      <td>0.00696</td>\n",
              "      <td>0.01394</td>\n",
              "      <td>0.06134</td>\n",
              "      <td>0.626</td>\n",
              "      <td>0.03134</td>\n",
              "      <td>0.04518</td>\n",
              "      <td>0.04368</td>\n",
              "      <td>0.09403</td>\n",
              "      <td>0.01929</td>\n",
              "      <td>19.085</td>\n",
              "      <td>1</td>\n",
              "      <td>0.458359</td>\n",
              "      <td>0.819521</td>\n",
              "      <td>-4.075192</td>\n",
              "      <td>0.335590</td>\n",
              "      <td>2.486855</td>\n",
              "      <td>0.368674</td>\n",
              "    </tr>\n",
              "    <tr>\n",
              "      <th>2</th>\n",
              "      <td>116.682</td>\n",
              "      <td>131.111</td>\n",
              "      <td>111.555</td>\n",
              "      <td>0.01050</td>\n",
              "      <td>0.00009</td>\n",
              "      <td>0.00544</td>\n",
              "      <td>0.00781</td>\n",
              "      <td>0.01633</td>\n",
              "      <td>0.05233</td>\n",
              "      <td>0.482</td>\n",
              "      <td>0.02757</td>\n",
              "      <td>0.03858</td>\n",
              "      <td>0.03590</td>\n",
              "      <td>0.08270</td>\n",
              "      <td>0.01309</td>\n",
              "      <td>20.651</td>\n",
              "      <td>1</td>\n",
              "      <td>0.429895</td>\n",
              "      <td>0.825288</td>\n",
              "      <td>-4.443179</td>\n",
              "      <td>0.311173</td>\n",
              "      <td>2.342259</td>\n",
              "      <td>0.332634</td>\n",
              "    </tr>\n",
              "    <tr>\n",
              "      <th>3</th>\n",
              "      <td>116.676</td>\n",
              "      <td>137.871</td>\n",
              "      <td>111.366</td>\n",
              "      <td>0.00997</td>\n",
              "      <td>0.00009</td>\n",
              "      <td>0.00502</td>\n",
              "      <td>0.00698</td>\n",
              "      <td>0.01505</td>\n",
              "      <td>0.05492</td>\n",
              "      <td>0.517</td>\n",
              "      <td>0.02924</td>\n",
              "      <td>0.04005</td>\n",
              "      <td>0.03772</td>\n",
              "      <td>0.08771</td>\n",
              "      <td>0.01353</td>\n",
              "      <td>20.644</td>\n",
              "      <td>1</td>\n",
              "      <td>0.434969</td>\n",
              "      <td>0.819235</td>\n",
              "      <td>-4.117501</td>\n",
              "      <td>0.334147</td>\n",
              "      <td>2.405554</td>\n",
              "      <td>0.368975</td>\n",
              "    </tr>\n",
              "    <tr>\n",
              "      <th>4</th>\n",
              "      <td>116.014</td>\n",
              "      <td>141.781</td>\n",
              "      <td>110.655</td>\n",
              "      <td>0.01284</td>\n",
              "      <td>0.00011</td>\n",
              "      <td>0.00655</td>\n",
              "      <td>0.00908</td>\n",
              "      <td>0.01966</td>\n",
              "      <td>0.06425</td>\n",
              "      <td>0.584</td>\n",
              "      <td>0.03490</td>\n",
              "      <td>0.04825</td>\n",
              "      <td>0.04465</td>\n",
              "      <td>0.10470</td>\n",
              "      <td>0.01767</td>\n",
              "      <td>19.649</td>\n",
              "      <td>1</td>\n",
              "      <td>0.417356</td>\n",
              "      <td>0.823484</td>\n",
              "      <td>-3.747787</td>\n",
              "      <td>0.234513</td>\n",
              "      <td>2.332180</td>\n",
              "      <td>0.410335</td>\n",
              "    </tr>\n",
              "  </tbody>\n",
              "</table>\n",
              "</div>"
            ],
            "text/plain": [
              "        fo      fhi      flo   jitter  ...        s1        s2        d2       ppe\n",
              "0  119.992  157.302   74.997  0.00784  ... -4.813031  0.266482  2.301442  0.284654\n",
              "1  122.400  148.650  113.819  0.00968  ... -4.075192  0.335590  2.486855  0.368674\n",
              "2  116.682  131.111  111.555  0.01050  ... -4.443179  0.311173  2.342259  0.332634\n",
              "3  116.676  137.871  111.366  0.00997  ... -4.117501  0.334147  2.405554  0.368975\n",
              "4  116.014  141.781  110.655  0.01284  ... -3.747787  0.234513  2.332180  0.410335\n",
              "\n",
              "[5 rows x 23 columns]"
            ]
          },
          "metadata": {},
          "execution_count": 43
        }
      ]
    },
    {
      "cell_type": "code",
      "metadata": {
        "colab": {
          "base_uri": "https://localhost:8080/"
        },
        "id": "7dIGPRdQnWYe",
        "outputId": "33f0c2a2-e470-438b-e48c-a21cdd0f18fc"
      },
      "source": [
        "#como parte del proceso de limpieza revisamos si hay datos de tipo null\n",
        "df.isnull().sum()"
      ],
      "execution_count": 44,
      "outputs": [
        {
          "output_type": "execute_result",
          "data": {
            "text/plain": [
              "fo            0\n",
              "fhi           0\n",
              "flo           0\n",
              "jitter        0\n",
              "jitter_abs    0\n",
              "rap           0\n",
              "ppq           0\n",
              "ddp           0\n",
              "shi           0\n",
              "shi_db        0\n",
              "shi_apq3      0\n",
              "shi_apq5      0\n",
              "apq           0\n",
              "shi_dda       0\n",
              "nhr           0\n",
              "hnr           0\n",
              "status        0\n",
              "rpde          0\n",
              "dfa           0\n",
              "s1            0\n",
              "s2            0\n",
              "d2            0\n",
              "ppe           0\n",
              "dtype: int64"
            ]
          },
          "metadata": {},
          "execution_count": 44
        }
      ]
    },
    {
      "cell_type": "code",
      "metadata": {
        "colab": {
          "base_uri": "https://localhost:8080/"
        },
        "id": "CT35sgQvthdI",
        "outputId": "4655b192-5476-411d-85a2-16bb48b218fc"
      },
      "source": [
        " df.shape"
      ],
      "execution_count": 45,
      "outputs": [
        {
          "output_type": "execute_result",
          "data": {
            "text/plain": [
              "(195, 23)"
            ]
          },
          "metadata": {},
          "execution_count": 45
        }
      ]
    },
    {
      "cell_type": "markdown",
      "metadata": {
        "id": "r9yLYIU8ocMu"
      },
      "source": [
        ""
      ]
    },
    {
      "cell_type": "markdown",
      "metadata": {
        "id": "x4rzJ51vovVu"
      },
      "source": [
        "## Comenzamos separando los datos en los datos de entrenamiento y datos para test \n",
        "\n",
        "La columna de \"status\" es la que nos importa para clasificar, será la variable independiente y el resto las dependientes"
      ]
    },
    {
      "cell_type": "code",
      "metadata": {
        "id": "sKq8wQh_nWa9"
      },
      "source": [
        "# Separamos el data set en los features independientes y dependientes \n",
        "X = df.drop(columns=['status'])\n",
        "y = df.status\n"
      ],
      "execution_count": 46,
      "outputs": []
    },
    {
      "cell_type": "code",
      "metadata": {
        "colab": {
          "base_uri": "https://localhost:8080/"
        },
        "id": "WiHi0NSKuGKU",
        "outputId": "5f5ffe07-b764-4260-c452-96a100dc1dfd"
      },
      "source": [
        "print(X.shape,y.shape)"
      ],
      "execution_count": 47,
      "outputs": [
        {
          "output_type": "stream",
          "name": "stdout",
          "text": [
            "(195, 22) (195,)\n"
          ]
        }
      ]
    },
    {
      "cell_type": "markdown",
      "metadata": {
        "id": "rY0bLikWrqa3"
      },
      "source": [
        "Separamos los datos en train y test usando k-fold cross-validation\n",
        "\n",
        "Documentación de la función [train_test_split](https://scikit-learn.org/stable/modules/generated/sklearn.model_selection.train_test_split.html)"
      ]
    },
    {
      "cell_type": "code",
      "metadata": {
        "colab": {
          "base_uri": "https://localhost:8080/"
        },
        "id": "6O7-cUxYrWok",
        "outputId": "84891891-cfc8-4ae2-b6f2-93d6cd559e39"
      },
      "source": [
        "X_train, X_test, y_train, y_test = train_test_split(X, y, \n",
        "                                                    test_size=0.25,\n",
        "                                                    shuffle=True,\n",
        "                                                    random_state=42\n",
        "                                                   )\n",
        "#vemos la relación entre gente con parkinson y gente que no en los sets de datos de test y entrenamiento\n",
        "print(y_train.value_counts(normalize=True))\n",
        "print(y_test.value_counts(normalize=True))"
      ],
      "execution_count": 48,
      "outputs": [
        {
          "output_type": "stream",
          "name": "stdout",
          "text": [
            "1    0.746575\n",
            "0    0.253425\n",
            "Name: status, dtype: float64\n",
            "1    0.77551\n",
            "0    0.22449\n",
            "Name: status, dtype: float64\n"
          ]
        }
      ]
    },
    {
      "cell_type": "markdown",
      "metadata": {
        "id": "0cEGwUFEsto4"
      },
      "source": [
        "## Analizamos su accuracy con la libreria de Sklearn"
      ]
    },
    {
      "cell_type": "code",
      "metadata": {
        "colab": {
          "base_uri": "https://localhost:8080/"
        },
        "id": "nKli9mVYsUq2",
        "outputId": "b03e2112-db7b-4ee2-bd63-53d9c5c36e31"
      },
      "source": [
        "#hacemos un Dummy Classifier para tener el baseline de la predicción\n",
        "\n",
        "#.mode() regresa el valor con mayor frecuencia de una serie\n",
        "majority_class = y_train.mode()[0]\n",
        "#np.full: Devuelve un nuevo array de forma y tipo dados, rellenado con fill_value.\n",
        "prediction = np.full(shape=y_train.shape, \n",
        "                     fill_value=majority_class)\n",
        "\n",
        "accuracy_score(y_train, prediction)"
      ],
      "execution_count": 49,
      "outputs": [
        {
          "output_type": "execute_result",
          "data": {
            "text/plain": [
              "0.7465753424657534"
            ]
          },
          "metadata": {},
          "execution_count": 49
        }
      ]
    },
    {
      "cell_type": "code",
      "metadata": {
        "colab": {
          "base_uri": "https://localhost:8080/"
        },
        "id": "PuxHUOpw3xYn",
        "outputId": "f87305d0-d4d2-49ff-a63b-164e0893e9ff"
      },
      "source": [
        "#Distribution of y test\n",
        "print('y actual : \\n' +  str(y_train.value_counts()))\n",
        "\n",
        "#Distribution of y predicted\n",
        "print('y predicted : \\n' + str(pd.Series(prediction).value_counts()))"
      ],
      "execution_count": 59,
      "outputs": [
        {
          "output_type": "stream",
          "name": "stdout",
          "text": [
            "y actual : \n",
            "1    109\n",
            "0     37\n",
            "Name: status, dtype: int64\n",
            "y predicted : \n",
            "1    146\n",
            "dtype: int64\n"
          ]
        }
      ]
    },
    {
      "cell_type": "code",
      "metadata": {
        "colab": {
          "base_uri": "https://localhost:8080/"
        },
        "id": "dWBp_QXF3Rh1",
        "outputId": "29061529-d205-43bb-9394-436418d28c48"
      },
      "source": [
        "print('Accuracy Score : ' + str(accuracy_score(y_train,prediction)))\n",
        "print('Precision Score : ' + str(precision_score(y_train,prediction)))\n",
        "print('Recall Score : ' + str(recall_score(y_train,prediction)))\n",
        "print('F1 Score : ' + str(f1_score(y_train,prediction)))"
      ],
      "execution_count": 60,
      "outputs": [
        {
          "output_type": "stream",
          "name": "stdout",
          "text": [
            "Accuracy Score : 0.7465753424657534\n",
            "Precision Score : 0.7465753424657534\n",
            "Recall Score : 1.0\n",
            "F1 Score : 0.8549019607843137\n"
          ]
        }
      ]
    },
    {
      "cell_type": "code",
      "metadata": {
        "colab": {
          "base_uri": "https://localhost:8080/"
        },
        "id": "N6rTm4kl4VQa",
        "outputId": "0fd4f26b-726a-4f50-817e-bdd2a65964e5"
      },
      "source": [
        "print('Confusion Matrix : \\n' + str(confusion_matrix(y_train,prediction)))"
      ],
      "execution_count": 64,
      "outputs": [
        {
          "output_type": "stream",
          "name": "stdout",
          "text": [
            "Confusion Matrix : \n",
            "[[  0  37]\n",
            " [  0 109]]\n"
          ]
        }
      ]
    },
    {
      "cell_type": "code",
      "metadata": {
        "id": "la72ulc55x_M"
      },
      "source": [
        "clf = SVC(random_state=0)\n",
        " clf.fit(X_train, y_train)\n",
        "SVC(random_state=0)\n",
        ">>> plot_confusion_matrix(clf, X_test, y_test)  \n",
        ">>> plt.show() "
      ],
      "execution_count": null,
      "outputs": []
    },
    {
      "cell_type": "markdown",
      "metadata": {
        "id": "qf5OpC4564zY"
      },
      "source": [
        ""
      ]
    },
    {
      "cell_type": "code",
      "metadata": {
        "colab": {
          "base_uri": "https://localhost:8080/"
        },
        "id": "od2OID_z639G",
        "outputId": "26ed91dd-075a-44bb-a687-f533028c535f"
      },
      "source": [
        "clf = LogisticRegression().fit(X_train,y_train)\n",
        "y_pred = clf.predict(X_test)"
      ],
      "execution_count": 65,
      "outputs": [
        {
          "output_type": "stream",
          "name": "stderr",
          "text": [
            "/usr/local/lib/python3.7/dist-packages/sklearn/linear_model/_logistic.py:940: ConvergenceWarning: lbfgs failed to converge (status=1):\n",
            "STOP: TOTAL NO. of ITERATIONS REACHED LIMIT.\n",
            "\n",
            "Increase the number of iterations (max_iter) or scale the data as shown in:\n",
            "    https://scikit-learn.org/stable/modules/preprocessing.html\n",
            "Please also refer to the documentation for alternative solver options:\n",
            "    https://scikit-learn.org/stable/modules/linear_model.html#logistic-regression\n",
            "  extra_warning_msg=_LOGISTIC_SOLVER_CONVERGENCE_MSG)\n"
          ]
        }
      ]
    },
    {
      "cell_type": "markdown",
      "metadata": {
        "id": "LvxLY17j7HLk"
      },
      "source": [
        ""
      ]
    },
    {
      "cell_type": "code",
      "metadata": {
        "colab": {
          "base_uri": "https://localhost:8080/"
        },
        "id": "vO38ezpx7HfL",
        "outputId": "2326c640-4a9a-4f9e-f1cf-573d3e27abcc"
      },
      "source": [
        "print('Accuracy Score : ' + str(accuracy_score(y_test,y_pred)))\n",
        "print('Precision Score : ' + str(precision_score(y_test,y_pred)))\n",
        "print('Recall Score : ' + str(recall_score(y_test,y_pred)))\n",
        "print('F1 Score : ' + str(f1_score(y_test,y_pred)))\n",
        "\n",
        "#Logistic Regression Classifier Confusion matrix\n",
        "from sklearn.metrics import confusion_matrix\n",
        "print('Confusion Matrix : \\n' + str(confusion_matrix(y_test,y_pred)))"
      ],
      "execution_count": 66,
      "outputs": [
        {
          "output_type": "stream",
          "name": "stdout",
          "text": [
            "Accuracy Score : 0.8775510204081632\n",
            "Precision Score : 0.8809523809523809\n",
            "Recall Score : 0.9736842105263158\n",
            "F1 Score : 0.925\n",
            "Confusion Matrix : \n",
            "[[ 6  5]\n",
            " [ 1 37]]\n"
          ]
        }
      ]
    },
    {
      "cell_type": "markdown",
      "metadata": {
        "id": "Njv0TIULvfwH"
      },
      "source": [
        "#Usamos pipeline de Sklearn\n",
        "\n",
        "https://scikit-learn.org/stable/modules/generated/sklearn.pipeline.make_pipeline.html"
      ]
    },
    {
      "cell_type": "code",
      "metadata": {
        "id": "2Vku5-xYvWmX"
      },
      "source": [
        "pipeline = make_pipeline(\\\n",
        "                         RobustScaler(),\n",
        "                         SelectKBest(f_classif),\n",
        "                         LogisticRegression(solver='lbfgs'))"
      ],
      "execution_count": 50,
      "outputs": []
    },
    {
      "cell_type": "markdown",
      "metadata": {
        "id": "__jpQAA51Fmx"
      },
      "source": [
        "## Usamos GridSearchCV de Sklearn\n",
        "\n",
        "https://scikit-learn.org/stable/modules/generated/sklearn.model_selection.GridSearchCV.html"
      ]
    },
    {
      "cell_type": "code",
      "metadata": {
        "colab": {
          "base_uri": "https://localhost:8080/"
        },
        "id": "RlWV11hevWnm",
        "outputId": "32aa5bf9-73ad-40c8-e994-160de6c4d806"
      },
      "source": [
        "param_grid = {\n",
        "    'selectkbest__k': [1, 2, 3, 4],\n",
        "    'logisticregression__class_weight': [None,'balanced'],\n",
        "    'logisticregression__C': [.0001, .001, .01, .1, 1.0, 10.0, 100.00, 1000.0, 10000.0]\n",
        "}\n",
        "\n",
        "gridsearch = GridSearchCV(pipeline, param_grid=param_grid, cv=5,\n",
        "                         scoring='accuracy', verbose=1)\n",
        "\n",
        "gridsearch.fit(X_train, y_train)"
      ],
      "execution_count": 51,
      "outputs": [
        {
          "output_type": "stream",
          "name": "stdout",
          "text": [
            "Fitting 5 folds for each of 72 candidates, totalling 360 fits\n"
          ]
        },
        {
          "output_type": "stream",
          "name": "stderr",
          "text": [
            "[Parallel(n_jobs=1)]: Using backend SequentialBackend with 1 concurrent workers.\n",
            "[Parallel(n_jobs=1)]: Done 360 out of 360 | elapsed:    4.7s finished\n"
          ]
        },
        {
          "output_type": "execute_result",
          "data": {
            "text/plain": [
              "GridSearchCV(cv=5, error_score=nan,\n",
              "             estimator=Pipeline(memory=None,\n",
              "                                steps=[('robustscaler',\n",
              "                                        RobustScaler(copy=True,\n",
              "                                                     quantile_range=(25.0,\n",
              "                                                                     75.0),\n",
              "                                                     with_centering=True,\n",
              "                                                     with_scaling=True)),\n",
              "                                       ('selectkbest',\n",
              "                                        SelectKBest(k=10,\n",
              "                                                    score_func=<function f_classif at 0x7f3aca8dee60>)),\n",
              "                                       ('logisticregression',\n",
              "                                        LogisticRegression(C=1.0,\n",
              "                                                           class_weight=None,\n",
              "                                                           dual=False,\n",
              "                                                           fit_intercept=T...\n",
              "                                                           solver='lbfgs',\n",
              "                                                           tol=0.0001,\n",
              "                                                           verbose=0,\n",
              "                                                           warm_start=False))],\n",
              "                                verbose=False),\n",
              "             iid='deprecated', n_jobs=None,\n",
              "             param_grid={'logisticregression__C': [0.0001, 0.001, 0.01, 0.1,\n",
              "                                                   1.0, 10.0, 100.0, 1000.0,\n",
              "                                                   10000.0],\n",
              "                         'logisticregression__class_weight': [None, 'balanced'],\n",
              "                         'selectkbest__k': [1, 2, 3, 4]},\n",
              "             pre_dispatch='2*n_jobs', refit=True, return_train_score=False,\n",
              "             scoring='accuracy', verbose=1)"
            ]
          },
          "metadata": {},
          "execution_count": 51
        }
      ]
    },
    {
      "cell_type": "markdown",
      "metadata": {
        "id": "SzlTMwpKzbD7"
      },
      "source": [
        "Ahora intentamos entender qué pasó arriba"
      ]
    },
    {
      "cell_type": "code",
      "metadata": {
        "colab": {
          "base_uri": "https://localhost:8080/"
        },
        "id": "M9EUU2Quzdct",
        "outputId": "0599886c-e9ba-4a53-81a2-687fa7145882"
      },
      "source": [
        "print('Cross Validation Score:', gridsearch.best_score_)"
      ],
      "execution_count": 52,
      "outputs": [
        {
          "output_type": "stream",
          "name": "stdout",
          "text": [
            "Cross Validation Score: 0.8491954022988505\n"
          ]
        }
      ]
    },
    {
      "cell_type": "code",
      "metadata": {
        "colab": {
          "base_uri": "https://localhost:8080/"
        },
        "id": "YoNJ9XYqzhLr",
        "outputId": "295473ba-d22c-4cce-b48a-2dcdd5fada0c"
      },
      "source": [
        "print('Best Parameters:', gridsearch.best_params_)"
      ],
      "execution_count": 53,
      "outputs": [
        {
          "output_type": "stream",
          "name": "stdout",
          "text": [
            "Best Parameters: {'logisticregression__C': 1000.0, 'logisticregression__class_weight': None, 'selectkbest__k': 2}\n"
          ]
        }
      ]
    },
    {
      "cell_type": "code",
      "metadata": {
        "colab": {
          "base_uri": "https://localhost:8080/"
        },
        "id": "RzypVvCdzlqS",
        "outputId": "52b34b4a-3bc3-4cde-d707-4b1069e9e8e5"
      },
      "source": [
        "# Cuáles fueron los features seleccionados?\n",
        "selector = gridsearch.best_estimator_.named_steps['selectkbest']\n",
        "all_names = X_train.columns\n",
        "selected_mask = selector.get_support()\n",
        "selected_names = all_names[selected_mask]\n",
        "unselected_names = all_names[~selected_mask]\n",
        "\n",
        "print('Features selected:')\n",
        "for name in selected_names:\n",
        "    print(name)\n",
        "\n",
        "print()\n",
        "print('Features not selected:')\n",
        "for name in unselected_names:\n",
        "    print(name)"
      ],
      "execution_count": 54,
      "outputs": [
        {
          "output_type": "stream",
          "name": "stdout",
          "text": [
            "Features selected:\n",
            "s1\n",
            "ppe\n",
            "\n",
            "Features not selected:\n",
            "fo\n",
            "fhi\n",
            "flo\n",
            "jitter\n",
            "jitter_abs\n",
            "rap\n",
            "ppq\n",
            "ddp\n",
            "shi\n",
            "shi_db\n",
            "shi_apq3\n",
            "shi_apq5\n",
            "apq\n",
            "shi_dda\n",
            "nhr\n",
            "hnr\n",
            "rpde\n",
            "dfa\n",
            "s2\n",
            "d2\n"
          ]
        }
      ]
    },
    {
      "cell_type": "markdown",
      "metadata": {
        "id": "Jwr-tvnP0OBT"
      },
      "source": [
        "s1 y ppe corresponden a medidas no lineales de variación de la frecuencia fundamental"
      ]
    },
    {
      "cell_type": "code",
      "metadata": {
        "colab": {
          "base_uri": "https://localhost:8080/"
        },
        "id": "ISWQ9Bvpzvxe",
        "outputId": "fcc90500-ab26-480c-96b2-eb7cb394d614"
      },
      "source": [
        "#Get the best model and check it against test data set.\n",
        "\n",
        "# Predict with X_test features\n",
        "y_pred = gridsearch.predict(X_test)\n",
        "\n",
        "# Compare predictions to y_test labels\n",
        "test_score = accuracy_score(y_test, y_pred)\n",
        "print('Accuracy Score on test data set:', test_score)"
      ],
      "execution_count": 55,
      "outputs": [
        {
          "output_type": "stream",
          "name": "stdout",
          "text": [
            "Accuracy Score on test data set: 0.8979591836734694\n"
          ]
        }
      ]
    },
    {
      "cell_type": "markdown",
      "metadata": {
        "id": "vK5-JK4n8H_4"
      },
      "source": [
        "Fuentes de consulta para este notebook\n",
        "\n",
        "https://towardsdatascience.com/grid-search-for-model-tuning-3319b259367e\n",
        "https://towardsdatascience.com/supervised-machine-learning-model-validation-a-step-by-step-approach-771109ae0253\n",
        "https://www.guavus.com/technical-blog/unsupervised-machine-learning-validation-techniques/"
      ]
    },
    {
      "cell_type": "code",
      "metadata": {
        "id": "4CnfuIPW8z-l"
      },
      "source": [
        ""
      ],
      "execution_count": null,
      "outputs": []
    }
  ]
}